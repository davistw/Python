{
 "cells": [
  {
   "cell_type": "code",
   "execution_count": null,
   "id": "50148e12",
   "metadata": {},
   "outputs": [],
   "source": [
    "import pandas as pd\n",
    "import re\n",
    "import nltk\n",
    "from nltk.corpus import stopwords\n",
    "from textblob import TextBlob\n",
    "import matplotlib.pyplot as plt\n",
    "\n",
    "# Synthetic buyer interview data snippet\n",
    "data = {\n",
    "    'buyer_id': [1, 2, 3, 4, 5],\n",
    "    'interview_notes': [\n",
    "        \"I absolutely love the new features! They're fantastic and easy to use.\",\n",
    "        \"The product is okay, but it has some issues with customer support.\",\n",
    "        \"I had a terrible experience with the installation process.\",\n",
    "        \"Great value for the price! Would recommend to friends.\",\n",
    "        \"I'm not satisfied with the product quality; it didn't meet my expectations.\"\n",
    "    ]\n",
    "}\n",
    "df = pd.DataFrame(data)\n",
    "\n",
    "# Download NLTK stopwords (run once)\n",
    "nltk.download('stopwords')\n",
    "\n",
    "# Function to clean and preprocess the text\n",
    "def preprocess_text(text):\n",
    "    text = text.lower()\n",
    "    text = re.sub(r'[^a-z\\s]', '', text)\n",
    "    stop_words = set(stopwords.words('english'))\n",
    "    text = ' '.join(word for word in text.split() if word not in stop_words)\n",
    "    return text\n",
    "\n",
    "# Apply preprocessing\n",
    "df['cleaned_notes'] = df['interview_notes'].apply(preprocess_text)\n",
    "\n",
    "# Function to get sentiment\n",
    "def get_sentiment(text):\n",
    "    analysis = TextBlob(text)\n",
    "    return analysis.sentiment.polarity\n",
    "\n",
    "# Apply sentiment analysis\n",
    "df['sentiment'] = df['cleaned_notes'].apply(get_sentiment)\n",
    "\n",
    "# Visualize sentiment scores\n",
    "plt.figure(figsize=(10, 5))\n",
    "plt.bar(df['buyer_id'], df['sentiment'], color='skyblue')\n",
    "plt.xlabel('Buyer ID')\n",
    "plt.ylabel('Sentiment Score')\n",
    "plt.title('Sentiment Analysis of Buyer Interviews')\n",
    "plt.axhline(0, color='red', linewidth=0.8)  # Line at 0 sentiment\n",
    "plt.xticks(df['buyer_id'])\n",
    "plt.show()"
   ]
  },
  {
   "cell_type": "code",
   "execution_count": null,
   "id": "bc899805",
   "metadata": {},
   "outputs": [],
   "source": []
  }
 ],
 "metadata": {
  "kernelspec": {
   "display_name": "Python 3 (ipykernel)",
   "language": "python",
   "name": "python3"
  },
  "language_info": {
   "codemirror_mode": {
    "name": "ipython",
    "version": 3
   },
   "file_extension": ".py",
   "mimetype": "text/x-python",
   "name": "python",
   "nbconvert_exporter": "python",
   "pygments_lexer": "ipython3",
   "version": "3.11.4"
  }
 },
 "nbformat": 4,
 "nbformat_minor": 5
}
