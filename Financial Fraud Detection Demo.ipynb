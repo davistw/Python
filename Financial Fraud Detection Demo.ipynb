{
 "cells": [
  {
   "cell_type": "code",
   "execution_count": null,
   "id": "76c6f2e2",
   "metadata": {},
   "outputs": [],
   "source": [
    "import pandas as pd\n",
    "import numpy as np\n",
    "\n",
    "# Set random seed for reproducibility\n",
    "np.random.seed(42)\n",
    "\n",
    "# Parameters\n",
    "num_records = 430693\n",
    "fraud_rate = 0.01\n",
    "num_frauds = int(num_records * fraud_rate)\n",
    "\n",
    "# Generate synthetic data\n",
    "data = {\n",
    "    'transaction_id': range(1, num_records + 1),\n",
    "    'amount': np.random.uniform(1, 10000, num_records),\n",
    "    'transaction_type': np.random.choice(['purchase', 'withdrawal', 'transfer'], num_records),\n",
    "    'customer_id': np.random.randint(1000, 5000, num_records),\n",
    "    'location': np.random.choice(['location_A', 'location_B', 'location_C', 'location_D'], num_records),\n",
    "}\n",
    "\n",
    "# Create a DataFrame\n",
    "df = pd.DataFrame(data)\n",
    "\n",
    "# Introduce frauds by manipulating certain features\n",
    "fraud_indices = np.random.choice(num_records, num_frauds, replace=False)\n",
    "df.loc[fraud_indices, 'amount'] *= 10  # Increase amount for frauds\n",
    "df.loc[fraud_indices, 'transaction_type'] = 'fraudulent'\n",
    "df['is_fraud'] = 0\n",
    "df.loc[fraud_indices, 'is_fraud'] = 1\n",
    "\n",
    "# Display dataset info\n",
    "print(df.head())\n",
    "print(df['is_fraud'].value_counts())\n"
   ]
  },
  {
   "cell_type": "code",
   "execution_count": null,
   "id": "94fcbf2a",
   "metadata": {},
   "outputs": [],
   "source": [
    "from sklearn.model_selection import train_test_split\n",
    "from sklearn.preprocessing import StandardScaler, OneHotEncoder\n",
    "from sklearn.compose import ColumnTransformer\n",
    "from sklearn.pipeline import Pipeline\n",
    "\n",
    "# Define features and target\n",
    "X = df.drop(columns=['transaction_id', 'is_fraud'])\n",
    "y = df['is_fraud']\n",
    "\n",
    "# Split the dataset into training and testing sets\n",
    "X_train, X_test, y_train, y_test = train_test_split(X, y, test_size=0.2, random_state=42, stratify=y)\n",
    "\n",
    "# Preprocessing pipeline\n",
    "preprocessor = ColumnTransformer(\n",
    "    transformers=[\n",
    "        ('num', StandardScaler(), ['amount']),\n",
    "        ('cat', OneHotEncoder(), ['transaction_type', 'location'])\n",
    "    ])\n",
    "\n",
    "# Transform the data\n",
    "X_train_transformed = preprocessor.fit_transform(X_train)\n",
    "X_test_transformed = preprocessor.transform(X_test)\n"
   ]
  },
  {
   "cell_type": "code",
   "execution_count": null,
   "id": "d83cc644",
   "metadata": {},
   "outputs": [],
   "source": [
    "from sklearn.ensemble import RandomForestClassifier\n",
    "from sklearn.metrics import classification_report, confusion_matrix\n",
    "\n",
    "# Initialize and train a Random Forest classifier\n",
    "model = RandomForestClassifier(n_estimators=100, random_state=42)\n",
    "model.fit(X_train_transformed, y_train)\n",
    "\n",
    "# Make predictions\n",
    "y_pred = model.predict(X_test_transformed)\n",
    "\n",
    "# Evaluate the model\n",
    "print(confusion_matrix(y_test, y_pred))\n",
    "print(classification_report(y_test, y_pred))\n"
   ]
  },
  {
   "cell_type": "code",
   "execution_count": null,
   "id": "ceb6d621",
   "metadata": {},
   "outputs": [],
   "source": [
    "import matplotlib.pyplot as plt\n",
    "import seaborn as sns\n",
    "\n",
    "# Confusion Matrix Visualization\n",
    "cm = confusion_matrix(y_test, y_pred)\n",
    "sns.heatmap(cm, annot=True, fmt='d', cmap='Blues', xticklabels=['Not Fraud', 'Fraud'], yticklabels=['Not Fraud', 'Fraud'])\n",
    "plt.ylabel('Actual')\n",
    "plt.xlabel('Predicted')\n",
    "plt.title('Confusion Matrix')\n",
    "plt.show()\n"
   ]
  },
  {
   "cell_type": "code",
   "execution_count": null,
   "id": "2f8e285a",
   "metadata": {},
   "outputs": [],
   "source": [
    "import joblib\n",
    "\n",
    "# Save the model and preprocessor\n",
    "joblib.dump(model, 'fraud_detection_model.pkl')\n",
    "joblib.dump(preprocessor, 'preprocessor.pkl')\n"
   ]
  }
 ],
 "metadata": {
  "kernelspec": {
   "display_name": "Python 3 (ipykernel)",
   "language": "python",
   "name": "python3"
  },
  "language_info": {
   "codemirror_mode": {
    "name": "ipython",
    "version": 3
   },
   "file_extension": ".py",
   "mimetype": "text/x-python",
   "name": "python",
   "nbconvert_exporter": "python",
   "pygments_lexer": "ipython3",
   "version": "3.11.4"
  }
 },
 "nbformat": 4,
 "nbformat_minor": 5
}
